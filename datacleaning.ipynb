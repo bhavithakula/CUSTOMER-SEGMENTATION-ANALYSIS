{
 "cells": [
  {
   "cell_type": "code",
   "execution_count": 12,
   "id": "eed3c033-dc1a-44a1-a481-ea519ad1dd35",
   "metadata": {},
   "outputs": [],
   "source": [
    "import pandas as pd\n",
    "\n",
    "# Load the dataset\n",
    "file_path = r\"cleaned_customer_shopping_data.csv\"\n",
    "df = pd.read_csv(file_path)\n"
   ]
  },
  {
   "cell_type": "code",
   "execution_count": 14,
   "id": "a8facf89-5a8e-44e5-b07c-73a104e72e68",
   "metadata": {},
   "outputs": [
    {
     "name": "stdout",
     "output_type": "stream",
     "text": [
      "Initial Dataset Preview:\n",
      "  invoice_no customer_id  gender  age  category  quantity    price  \\\n",
      "0    I138884     C241288  Female   28  Clothing         5  1500.40   \n",
      "1    I317333     C111565    Male   21     Shoes         3  1800.51   \n",
      "2    I127801     C266599    Male   20  Clothing         1   300.08   \n",
      "3    I173702     C988172  Female   66     Shoes         5  3000.85   \n",
      "4    I337046     C189076  Female   53     Books         4    60.60   \n",
      "\n",
      "  payment_method invoice_date   shopping_mall  \n",
      "0    Credit Card   2022-08-05          Kanyon  \n",
      "1     Debit Card   2021-12-12  Forum Istanbul  \n",
      "2           Cash   2021-11-09       Metrocity  \n",
      "3    Credit Card   2021-05-16    Metropol Avm  \n",
      "4           Cash   2021-10-24          Kanyon  \n"
     ]
    }
   ],
   "source": [
    "# Display first few rows to inspect the dataset\n",
    "print(\"Initial Dataset Preview:\")\n",
    "print(df.head())\n"
   ]
  },
  {
   "cell_type": "code",
   "execution_count": 16,
   "id": "b98a44c4-2c03-40f4-8141-e0acdfccd839",
   "metadata": {},
   "outputs": [],
   "source": [
    "# Convert 'invoice_date' to datetime format\n",
    "df['invoice_date'] = pd.to_datetime(df['invoice_date'], errors='coerce', dayfirst=True)\n"
   ]
  },
  {
   "cell_type": "code",
   "execution_count": 18,
   "id": "be9717ae-025f-4b9f-a19d-695c1ce2e60b",
   "metadata": {},
   "outputs": [],
   "source": [
    "# Remove duplicate rows\n",
    "df.drop_duplicates(inplace=True)\n"
   ]
  },
  {
   "cell_type": "code",
   "execution_count": 20,
   "id": "c319bf49-3b9e-47aa-9bdb-20324f103c93",
   "metadata": {},
   "outputs": [],
   "source": [
    "# Standardize text columns\n",
    "df['gender'] = df['gender'].str.title().str.strip()\n",
    "df['payment_method'] = df['payment_method'].str.title().str.strip()\n",
    "df['shopping_mall'] = df['shopping_mall'].str.title().str.strip()\n"
   ]
  },
  {
   "cell_type": "code",
   "execution_count": 22,
   "id": "99a1409e-f569-4b37-a2a7-f1e7e40e429b",
   "metadata": {},
   "outputs": [],
   "source": [
    "# Handle outliers: Removing extreme values in 'age', 'quantity', and 'price'\n",
    "df = df[(df['age'].between(18, 80)) & (df['quantity'] > 0) & (df['price'] > 0)]"
   ]
  },
  {
   "cell_type": "code",
   "execution_count": 26,
   "id": "8ebd0e0b-81a2-432c-88a4-181e0594985b",
   "metadata": {},
   "outputs": [
    {
     "name": "stdout",
     "output_type": "stream",
     "text": [
      "The dataset is adult-focused (no records with age below 18).\n"
     ]
    }
   ],
   "source": [
    "# Check if the dataset contains age values below 18 (non-adults)\n",
    "age_analysis = df[df['age'] < 18]\n",
    "# Display the results\n",
    "if not age_analysis.empty:\n",
    "    print(f\"The dataset contains {age_analysis.shape[0]} records where age is below 18.\")\n",
    "    display(age_analysis.head())  # Display a sample of non-adult records\n",
    "else:\n",
    "    print(\"The dataset is adult-focused (no records with age below 18).\")\n",
    "\n"
   ]
  },
  {
   "cell_type": "code",
   "execution_count": 28,
   "id": "36a3d448-6efb-4201-8c24-363a9e246a56",
   "metadata": {},
   "outputs": [
    {
     "name": "stdout",
     "output_type": "stream",
     "text": [
      "Cleaned dataset saved successfully in the current directory.\n"
     ]
    }
   ],
   "source": [
    "df.to_csv(\"cleaned_customer_shopping_data.csv\", index=False)\n",
    "print(\"Cleaned dataset saved successfully in the current directory.\")\n"
   ]
  },
  {
   "cell_type": "code",
   "execution_count": 30,
   "id": "1378d733-e106-4ac8-80ac-863b3dfda2f5",
   "metadata": {},
   "outputs": [
    {
     "name": "stdout",
     "output_type": "stream",
     "text": [
      "\n",
      "Data Cleaning Completed!\n",
      "Total Rows After Cleaning: 99457\n",
      "Missing Values After Cleaning:\n",
      " invoice_no            0\n",
      "customer_id           0\n",
      "gender                0\n",
      "age                   0\n",
      "category              0\n",
      "quantity              0\n",
      "price                 0\n",
      "payment_method        0\n",
      "invoice_date      59428\n",
      "shopping_mall         0\n",
      "dtype: int64\n",
      "Data Types After Cleaning:\n",
      " invoice_no                object\n",
      "customer_id               object\n",
      "gender                    object\n",
      "age                        int64\n",
      "category                  object\n",
      "quantity                   int64\n",
      "price                    float64\n",
      "payment_method            object\n",
      "invoice_date      datetime64[ns]\n",
      "shopping_mall             object\n",
      "dtype: object\n",
      "\n",
      "Cleaned Dataset Preview:\n",
      "  invoice_no customer_id  gender  age  category  quantity    price  \\\n",
      "0    I138884     C241288  Female   28  Clothing         5  1500.40   \n",
      "1    I317333     C111565    Male   21     Shoes         3  1800.51   \n",
      "2    I127801     C266599    Male   20  Clothing         1   300.08   \n",
      "3    I173702     C988172  Female   66     Shoes         5  3000.85   \n",
      "4    I337046     C189076  Female   53     Books         4    60.60   \n",
      "\n",
      "  payment_method invoice_date   shopping_mall  \n",
      "0    Credit Card   2022-05-08          Kanyon  \n",
      "1     Debit Card   2021-12-12  Forum Istanbul  \n",
      "2           Cash   2021-09-11       Metrocity  \n",
      "3    Credit Card          NaT    Metropol Avm  \n",
      "4           Cash          NaT          Kanyon  \n"
     ]
    }
   ],
   "source": [
    "# Display cleaned dataset summary\n",
    "print(\"\\nData Cleaning Completed!\")\n",
    "print(\"Total Rows After Cleaning:\", len(df))\n",
    "print(\"Missing Values After Cleaning:\\n\", df.isnull().sum())\n",
    "print(\"Data Types After Cleaning:\\n\", df.dtypes)\n",
    "print(\"\\nCleaned Dataset Preview:\")\n",
    "print(df.head())"
   ]
  },
  {
   "cell_type": "code",
   "execution_count": null,
   "id": "91fc1dd1-dab6-43ac-9809-40e76a7f3e37",
   "metadata": {},
   "outputs": [],
   "source": []
  }
 ],
 "metadata": {
  "kernelspec": {
   "display_name": "Python [conda env:anaconda3] *",
   "language": "python",
   "name": "conda-env-anaconda3-py"
  },
  "language_info": {
   "codemirror_mode": {
    "name": "ipython",
    "version": 3
   },
   "file_extension": ".py",
   "mimetype": "text/x-python",
   "name": "python",
   "nbconvert_exporter": "python",
   "pygments_lexer": "ipython3",
   "version": "3.12.7"
  }
 },
 "nbformat": 4,
 "nbformat_minor": 5
}
